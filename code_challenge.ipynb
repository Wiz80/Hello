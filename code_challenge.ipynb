{
  "nbformat": 4,
  "nbformat_minor": 0,
  "metadata": {
    "accelerator": "GPU",
    "colab": {
      "name": "code_challenge.ipynb",
      "provenance": [],
      "collapsed_sections": [],
      "authorship_tag": "ABX9TyNvT9xMhevoPU+52h/L27is",
      "include_colab_link": true
    },
    "kernelspec": {
      "display_name": "Python 3",
      "name": "python3"
    },
    "language_info": {
      "name": "python"
    }
  },
  "cells": [
    {
      "cell_type": "markdown",
      "metadata": {
        "id": "view-in-github",
        "colab_type": "text"
      },
      "source": [
        "<a href=\"https://colab.research.google.com/github/Wiz80/Hello/blob/master/code_challenge.ipynb\" target=\"_parent\"><img src=\"https://colab.research.google.com/assets/colab-badge.svg\" alt=\"Open In Colab\"/></a>"
      ]
    },
    {
      "cell_type": "code",
      "metadata": {
        "colab": {
          "base_uri": "https://localhost:8080/"
        },
        "id": "oW1hHnfpRaVr",
        "outputId": "db6e68e4-b7d3-47d7-f764-b2f9bbe376ad"
      },
      "source": [
        "contador = 0\n",
        "i = 1000\n",
        "while True:\n",
        "  if i % 5 == 0 and i % 7 == 0:\n",
        "    contador += 1\n",
        "  i = i+10\n",
        "  if i > 9999:\n",
        "    break\n",
        "\n",
        "print(contador)\n"
      ],
      "execution_count": null,
      "outputs": [
        {
          "output_type": "stream",
          "text": [
            "128\n"
          ],
          "name": "stdout"
        }
      ]
    },
    {
      "cell_type": "code",
      "metadata": {
        "colab": {
          "base_uri": "https://localhost:8080/"
        },
        "id": "6Jf_rb4nw_VS",
        "outputId": "b6d7945e-62e2-4915-e2fa-662e749f9231"
      },
      "source": [
        "#ordenar lista en orden alfabético\n",
        "import numpy as np\n",
        "import string\n",
        "abc = list(string.ascii_lowercase)\n",
        "lista = ['o', 'e', 'i', 'i', 'p', 'q','q','l','n']\n",
        "for i in range(len(lista)):\n",
        "  contador = 0\n",
        "  while i <= len(lista)-1 and contador <= len(lista)-2:\n",
        "    if abc.index(lista[contador]) >= abc.index(lista[contador+1]):     \n",
        "      temp = lista[contador]\n",
        "      lista[contador] = lista[contador+1]\n",
        "      lista[contador+1] = temp\n",
        "    contador += 1\n",
        "\n",
        "print(lista)\n",
        "print(lista[-3])\n",
        "#Meter letras como ch y ñ en abc\n",
        "\n"
      ],
      "execution_count": null,
      "outputs": [
        {
          "output_type": "stream",
          "text": [
            "['e', 'i', 'i', 'l', 'n', 'o', 'p', 'q', 'q']\n",
            "p\n"
          ],
          "name": "stdout"
        }
      ]
    },
    {
      "cell_type": "code",
      "metadata": {
        "colab": {
          "base_uri": "https://localhost:8080/"
        },
        "id": "I90hHiJPzf8R",
        "outputId": "e8710422-089c-41b6-f23f-65a9fef51ee4"
      },
      "source": [
        "lista = [1,2,4,8]\n",
        "print(len(lista))"
      ],
      "execution_count": null,
      "outputs": [
        {
          "output_type": "stream",
          "text": [
            "4\n"
          ],
          "name": "stdout"
        }
      ]
    },
    {
      "cell_type": "code",
      "metadata": {
        "colab": {
          "base_uri": "https://localhost:8080/"
        },
        "id": "tnM6v10zxo-a",
        "outputId": "827aee1b-90bf-4d43-c267-7cc7fede33f1"
      },
      "source": [
        ""
      ],
      "execution_count": null,
      "outputs": [
        {
          "output_type": "stream",
          "text": [
            "abcdefghijklmnopqrstuvwxyz\n"
          ],
          "name": "stdout"
        }
      ]
    }
  ]
}